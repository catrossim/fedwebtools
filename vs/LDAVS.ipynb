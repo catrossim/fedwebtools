{
 "cells": [
  {
   "cell_type": "code",
   "execution_count": 1,
   "metadata": {
    "collapsed": true
   },
   "outputs": [],
   "source": [
    "import pandas as pd"
   ]
  },
  {
   "cell_type": "code",
   "execution_count": 195,
   "metadata": {
    "collapsed": false
   },
   "outputs": [],
   "source": [
    "rmat = pd.read_csv('../rs/resource/etext_10/etext_compos.txt',sep='\\t',header=None)"
   ]
  },
  {
   "cell_type": "code",
   "execution_count": 196,
   "metadata": {
    "collapsed": false
   },
   "outputs": [
    {
     "data": {
      "text/html": [
       "<div>\n",
       "<table border=\"1\" class=\"dataframe\">\n",
       "  <thead>\n",
       "    <tr style=\"text-align: right;\">\n",
       "      <th></th>\n",
       "      <th>0</th>\n",
       "      <th>1</th>\n",
       "      <th>2</th>\n",
       "      <th>3</th>\n",
       "      <th>4</th>\n",
       "      <th>5</th>\n",
       "      <th>6</th>\n",
       "      <th>7</th>\n",
       "      <th>8</th>\n",
       "      <th>9</th>\n",
       "      <th>10</th>\n",
       "      <th>11</th>\n",
       "    </tr>\n",
       "  </thead>\n",
       "  <tbody>\n",
       "    <tr>\n",
       "      <th>0</th>\n",
       "      <td>0</td>\n",
       "      <td>file:/software/home/chenjh/mallet-2.0.8/etext/...</td>\n",
       "      <td>0.034328</td>\n",
       "      <td>0.003914</td>\n",
       "      <td>0.296675</td>\n",
       "      <td>0.144313</td>\n",
       "      <td>0.000084</td>\n",
       "      <td>0.021431</td>\n",
       "      <td>0.334450</td>\n",
       "      <td>0.006278</td>\n",
       "      <td>0.062092</td>\n",
       "      <td>0.096435</td>\n",
       "    </tr>\n",
       "    <tr>\n",
       "      <th>1</th>\n",
       "      <td>1</td>\n",
       "      <td>file:/software/home/chenjh/mallet-2.0.8/etext/...</td>\n",
       "      <td>0.010474</td>\n",
       "      <td>0.000850</td>\n",
       "      <td>0.044664</td>\n",
       "      <td>0.028078</td>\n",
       "      <td>0.000044</td>\n",
       "      <td>0.010328</td>\n",
       "      <td>0.016326</td>\n",
       "      <td>0.002303</td>\n",
       "      <td>0.862257</td>\n",
       "      <td>0.024676</td>\n",
       "    </tr>\n",
       "  </tbody>\n",
       "</table>\n",
       "</div>"
      ],
      "text/plain": [
       "   0                                                  1         2         3   \\\n",
       "0   0  file:/software/home/chenjh/mallet-2.0.8/etext/...  0.034328  0.003914   \n",
       "1   1  file:/software/home/chenjh/mallet-2.0.8/etext/...  0.010474  0.000850   \n",
       "\n",
       "         4         5         6         7         8         9         10  \\\n",
       "0  0.296675  0.144313  0.000084  0.021431  0.334450  0.006278  0.062092   \n",
       "1  0.044664  0.028078  0.000044  0.010328  0.016326  0.002303  0.862257   \n",
       "\n",
       "         11  \n",
       "0  0.096435  \n",
       "1  0.024676  "
      ]
     },
     "execution_count": 196,
     "metadata": {},
     "output_type": "execute_result"
    }
   ],
   "source": [
    "rmat[:2]"
   ]
  },
  {
   "cell_type": "code",
   "execution_count": 197,
   "metadata": {
    "collapsed": true
   },
   "outputs": [],
   "source": [
    "rmat['e'] = rmat[1].apply(lambda x:x[-4:])    "
   ]
  },
  {
   "cell_type": "code",
   "execution_count": 198,
   "metadata": {
    "collapsed": false
   },
   "outputs": [
    {
     "data": {
      "text/html": [
       "<div>\n",
       "<table border=\"1\" class=\"dataframe\">\n",
       "  <thead>\n",
       "    <tr style=\"text-align: right;\">\n",
       "      <th></th>\n",
       "      <th>0</th>\n",
       "      <th>1</th>\n",
       "      <th>2</th>\n",
       "      <th>3</th>\n",
       "      <th>4</th>\n",
       "      <th>5</th>\n",
       "      <th>6</th>\n",
       "      <th>7</th>\n",
       "      <th>8</th>\n",
       "      <th>9</th>\n",
       "      <th>10</th>\n",
       "      <th>11</th>\n",
       "      <th>e</th>\n",
       "    </tr>\n",
       "  </thead>\n",
       "  <tbody>\n",
       "    <tr>\n",
       "      <th>0</th>\n",
       "      <td>0</td>\n",
       "      <td>file:/software/home/chenjh/mallet-2.0.8/etext/...</td>\n",
       "      <td>0.034328</td>\n",
       "      <td>0.003914</td>\n",
       "      <td>0.296675</td>\n",
       "      <td>0.144313</td>\n",
       "      <td>0.000084</td>\n",
       "      <td>0.021431</td>\n",
       "      <td>0.33445</td>\n",
       "      <td>0.006278</td>\n",
       "      <td>0.062092</td>\n",
       "      <td>0.096435</td>\n",
       "      <td>e052</td>\n",
       "    </tr>\n",
       "  </tbody>\n",
       "</table>\n",
       "</div>"
      ],
      "text/plain": [
       "   0                                                  1         2         3  \\\n",
       "0  0  file:/software/home/chenjh/mallet-2.0.8/etext/...  0.034328  0.003914   \n",
       "\n",
       "          4         5         6         7        8         9        10  \\\n",
       "0  0.296675  0.144313  0.000084  0.021431  0.33445  0.006278  0.062092   \n",
       "\n",
       "         11     e  \n",
       "0  0.096435  e052  "
      ]
     },
     "execution_count": 198,
     "metadata": {},
     "output_type": "execute_result"
    }
   ],
   "source": [
    "rmat[:1]"
   ]
  },
  {
   "cell_type": "code",
   "execution_count": 199,
   "metadata": {
    "collapsed": false
   },
   "outputs": [],
   "source": [
    "del rmat[0]\n",
    "del rmat[1]"
   ]
  },
  {
   "cell_type": "code",
   "execution_count": 200,
   "metadata": {
    "collapsed": false
   },
   "outputs": [],
   "source": [
    "rmat = rmat.set_index('e')"
   ]
  },
  {
   "cell_type": "code",
   "execution_count": 201,
   "metadata": {
    "collapsed": false
   },
   "outputs": [
    {
     "data": {
      "text/html": [
       "<div>\n",
       "<table border=\"1\" class=\"dataframe\">\n",
       "  <thead>\n",
       "    <tr style=\"text-align: right;\">\n",
       "      <th></th>\n",
       "      <th>2</th>\n",
       "      <th>3</th>\n",
       "      <th>4</th>\n",
       "      <th>5</th>\n",
       "      <th>6</th>\n",
       "      <th>7</th>\n",
       "      <th>8</th>\n",
       "      <th>9</th>\n",
       "      <th>10</th>\n",
       "      <th>11</th>\n",
       "    </tr>\n",
       "    <tr>\n",
       "      <th>e</th>\n",
       "      <th></th>\n",
       "      <th></th>\n",
       "      <th></th>\n",
       "      <th></th>\n",
       "      <th></th>\n",
       "      <th></th>\n",
       "      <th></th>\n",
       "      <th></th>\n",
       "      <th></th>\n",
       "      <th></th>\n",
       "    </tr>\n",
       "  </thead>\n",
       "  <tbody>\n",
       "    <tr>\n",
       "      <th>e052</th>\n",
       "      <td>0.034328</td>\n",
       "      <td>0.003914</td>\n",
       "      <td>0.296675</td>\n",
       "      <td>0.144313</td>\n",
       "      <td>0.000084</td>\n",
       "      <td>0.021431</td>\n",
       "      <td>0.334450</td>\n",
       "      <td>0.006278</td>\n",
       "      <td>0.062092</td>\n",
       "      <td>0.096435</td>\n",
       "    </tr>\n",
       "    <tr>\n",
       "      <th>e055</th>\n",
       "      <td>0.010474</td>\n",
       "      <td>0.000850</td>\n",
       "      <td>0.044664</td>\n",
       "      <td>0.028078</td>\n",
       "      <td>0.000044</td>\n",
       "      <td>0.010328</td>\n",
       "      <td>0.016326</td>\n",
       "      <td>0.002303</td>\n",
       "      <td>0.862257</td>\n",
       "      <td>0.024676</td>\n",
       "    </tr>\n",
       "  </tbody>\n",
       "</table>\n",
       "</div>"
      ],
      "text/plain": [
       "            2         3         4         5         6         7         8   \\\n",
       "e                                                                            \n",
       "e052  0.034328  0.003914  0.296675  0.144313  0.000084  0.021431  0.334450   \n",
       "e055  0.010474  0.000850  0.044664  0.028078  0.000044  0.010328  0.016326   \n",
       "\n",
       "            9         10        11  \n",
       "e                                   \n",
       "e052  0.006278  0.062092  0.096435  \n",
       "e055  0.002303  0.862257  0.024676  "
      ]
     },
     "execution_count": 201,
     "metadata": {},
     "output_type": "execute_result"
    }
   ],
   "source": [
    "rmat[:2]"
   ]
  },
  {
   "cell_type": "code",
   "execution_count": 202,
   "metadata": {
    "collapsed": true
   },
   "outputs": [],
   "source": [
    "evmap = pd.read_csv('../rs/ev-mapping.txt',header=None,sep=' ')"
   ]
  },
  {
   "cell_type": "code",
   "execution_count": 203,
   "metadata": {
    "collapsed": false
   },
   "outputs": [],
   "source": [
    "evmap.rename(columns={0:'e',1:'v'},inplace=True)"
   ]
  },
  {
   "cell_type": "code",
   "execution_count": 204,
   "metadata": {
    "collapsed": false
   },
   "outputs": [],
   "source": [
    "rmat.reset_index(inplace=True)"
   ]
  },
  {
   "cell_type": "code",
   "execution_count": 205,
   "metadata": {
    "collapsed": false
   },
   "outputs": [],
   "source": [
    "vrmat = pd.merge(rmat,evmap,on='e')"
   ]
  },
  {
   "cell_type": "code",
   "execution_count": 206,
   "metadata": {
    "collapsed": false
   },
   "outputs": [],
   "source": [
    "vrmat = vrmat.set_index(['v','e'])"
   ]
  },
  {
   "cell_type": "code",
   "execution_count": 207,
   "metadata": {
    "collapsed": false
   },
   "outputs": [],
   "source": [
    "vmat = vrmat.groupby(level=0).mean()"
   ]
  },
  {
   "cell_type": "code",
   "execution_count": 208,
   "metadata": {
    "collapsed": false
   },
   "outputs": [
    {
     "data": {
      "text/html": [
       "<div>\n",
       "<table border=\"1\" class=\"dataframe\">\n",
       "  <thead>\n",
       "    <tr style=\"text-align: right;\">\n",
       "      <th></th>\n",
       "      <th>2</th>\n",
       "      <th>3</th>\n",
       "      <th>4</th>\n",
       "      <th>5</th>\n",
       "      <th>6</th>\n",
       "      <th>7</th>\n",
       "      <th>8</th>\n",
       "      <th>9</th>\n",
       "      <th>10</th>\n",
       "      <th>11</th>\n",
       "    </tr>\n",
       "    <tr>\n",
       "      <th>v</th>\n",
       "      <th></th>\n",
       "      <th></th>\n",
       "      <th></th>\n",
       "      <th></th>\n",
       "      <th></th>\n",
       "      <th></th>\n",
       "      <th></th>\n",
       "      <th></th>\n",
       "      <th></th>\n",
       "      <th></th>\n",
       "    </tr>\n",
       "  </thead>\n",
       "  <tbody>\n",
       "    <tr>\n",
       "      <th>v001</th>\n",
       "      <td>0.077877</td>\n",
       "      <td>0.005772</td>\n",
       "      <td>0.177866</td>\n",
       "      <td>0.111784</td>\n",
       "      <td>0.000667</td>\n",
       "      <td>0.018326</td>\n",
       "      <td>0.257271</td>\n",
       "      <td>0.004757</td>\n",
       "      <td>0.235443</td>\n",
       "      <td>0.110237</td>\n",
       "    </tr>\n",
       "    <tr>\n",
       "      <th>v002</th>\n",
       "      <td>0.056601</td>\n",
       "      <td>0.005213</td>\n",
       "      <td>0.027520</td>\n",
       "      <td>0.056177</td>\n",
       "      <td>0.000693</td>\n",
       "      <td>0.012965</td>\n",
       "      <td>0.432048</td>\n",
       "      <td>0.002953</td>\n",
       "      <td>0.058417</td>\n",
       "      <td>0.347414</td>\n",
       "    </tr>\n",
       "  </tbody>\n",
       "</table>\n",
       "</div>"
      ],
      "text/plain": [
       "            2         3         4         5         6         7         8   \\\n",
       "v                                                                            \n",
       "v001  0.077877  0.005772  0.177866  0.111784  0.000667  0.018326  0.257271   \n",
       "v002  0.056601  0.005213  0.027520  0.056177  0.000693  0.012965  0.432048   \n",
       "\n",
       "            9         10        11  \n",
       "v                                   \n",
       "v001  0.004757  0.235443  0.110237  \n",
       "v002  0.002953  0.058417  0.347414  "
      ]
     },
     "execution_count": 208,
     "metadata": {},
     "output_type": "execute_result"
    }
   ],
   "source": [
    "vmat[:2]"
   ]
  },
  {
   "cell_type": "code",
   "execution_count": 209,
   "metadata": {
    "collapsed": false
   },
   "outputs": [
    {
     "data": {
      "text/html": [
       "<div>\n",
       "<table border=\"1\" class=\"dataframe\">\n",
       "  <thead>\n",
       "    <tr style=\"text-align: right;\">\n",
       "      <th></th>\n",
       "      <th>0</th>\n",
       "      <th>1</th>\n",
       "      <th>2</th>\n",
       "      <th>3</th>\n",
       "      <th>4</th>\n",
       "      <th>5</th>\n",
       "      <th>6</th>\n",
       "      <th>7</th>\n",
       "      <th>8</th>\n",
       "      <th>9</th>\n",
       "      <th>10</th>\n",
       "      <th>11</th>\n",
       "    </tr>\n",
       "  </thead>\n",
       "  <tbody>\n",
       "    <tr>\n",
       "      <th>0</th>\n",
       "      <td>0</td>\n",
       "      <td>pavlova</td>\n",
       "      <td>0.072985</td>\n",
       "      <td>0.025054</td>\n",
       "      <td>0.571895</td>\n",
       "      <td>0.035948</td>\n",
       "      <td>0.009804</td>\n",
       "      <td>0.011983</td>\n",
       "      <td>0.075163</td>\n",
       "      <td>0.027233</td>\n",
       "      <td>0.011983</td>\n",
       "      <td>0.157952</td>\n",
       "    </tr>\n",
       "    <tr>\n",
       "      <th>1</th>\n",
       "      <td>1</td>\n",
       "      <td>asian</td>\n",
       "      <td>0.095085</td>\n",
       "      <td>0.016026</td>\n",
       "      <td>0.456197</td>\n",
       "      <td>0.058761</td>\n",
       "      <td>0.011752</td>\n",
       "      <td>0.035256</td>\n",
       "      <td>0.120726</td>\n",
       "      <td>0.028846</td>\n",
       "      <td>0.037393</td>\n",
       "      <td>0.139957</td>\n",
       "    </tr>\n",
       "  </tbody>\n",
       "</table>\n",
       "</div>"
      ],
      "text/plain": [
       "   0        1         2         3         4         5         6         7   \\\n",
       "0   0  pavlova  0.072985  0.025054  0.571895  0.035948  0.009804  0.011983   \n",
       "1   1    asian  0.095085  0.016026  0.456197  0.058761  0.011752  0.035256   \n",
       "\n",
       "         8         9         10        11  \n",
       "0  0.075163  0.027233  0.011983  0.157952  \n",
       "1  0.120726  0.028846  0.037393  0.139957  "
      ]
     },
     "execution_count": 209,
     "metadata": {},
     "output_type": "execute_result"
    }
   ],
   "source": [
    "qmat = pd.read_csv('../rs/resource/etext_10/expqs_dt',sep='\\t',header=None,skiprows=1)\n",
    "qmat[:2]"
   ]
  },
  {
   "cell_type": "code",
   "execution_count": 210,
   "metadata": {
    "collapsed": false
   },
   "outputs": [],
   "source": [
    "qmap = pd.read_csv('../rs/resource/qmap',header=None,sep=' ')"
   ]
  },
  {
   "cell_type": "code",
   "execution_count": 211,
   "metadata": {
    "collapsed": false
   },
   "outputs": [
    {
     "data": {
      "text/html": [
       "<div>\n",
       "<table border=\"1\" class=\"dataframe\">\n",
       "  <thead>\n",
       "    <tr style=\"text-align: right;\">\n",
       "      <th></th>\n",
       "      <th>0</th>\n",
       "      <th>1</th>\n",
       "    </tr>\n",
       "  </thead>\n",
       "  <tbody>\n",
       "    <tr>\n",
       "      <th>0</th>\n",
       "      <td>0</td>\n",
       "      <td>7011</td>\n",
       "    </tr>\n",
       "    <tr>\n",
       "      <th>1</th>\n",
       "      <td>1</td>\n",
       "      <td>7014</td>\n",
       "    </tr>\n",
       "  </tbody>\n",
       "</table>\n",
       "</div>"
      ],
      "text/plain": [
       "   0     1\n",
       "0  0  7011\n",
       "1  1  7014"
      ]
     },
     "execution_count": 211,
     "metadata": {},
     "output_type": "execute_result"
    }
   ],
   "source": [
    "qmap[:2]"
   ]
  },
  {
   "cell_type": "code",
   "execution_count": 212,
   "metadata": {
    "collapsed": false
   },
   "outputs": [],
   "source": [
    "qmat = pd.merge(qmat,qmap,on=0)"
   ]
  },
  {
   "cell_type": "code",
   "execution_count": 213,
   "metadata": {
    "collapsed": true
   },
   "outputs": [],
   "source": [
    "del qmat['1_x']\n",
    "del qmat[0]"
   ]
  },
  {
   "cell_type": "code",
   "execution_count": 214,
   "metadata": {
    "collapsed": false
   },
   "outputs": [],
   "source": [
    "qmat.rename(columns={'1_y':'q'},inplace=True)"
   ]
  },
  {
   "cell_type": "code",
   "execution_count": 215,
   "metadata": {
    "collapsed": true
   },
   "outputs": [],
   "source": [
    "from scipy.stats import entropy\n",
    "import numpy as np\n",
    "def cal_sim(inA, inB):\n",
    "    return entropy(inA, inB)"
   ]
  },
  {
   "cell_type": "code",
   "execution_count": 216,
   "metadata": {
    "collapsed": true
   },
   "outputs": [],
   "source": [
    "qmat.set_index('q',inplace=True)"
   ]
  },
  {
   "cell_type": "code",
   "execution_count": 217,
   "metadata": {
    "collapsed": false
   },
   "outputs": [],
   "source": [
    "def get_sim_result(qmat, rmat):\n",
    "    result = {}\n",
    "    # t = []\n",
    "    for i in xrange(len(qmat)):\n",
    "        qresult = []\n",
    "        qm = qmat.iloc[i].tolist()\n",
    "        q = qmat.iloc[i].name\n",
    "        for j in xrange(len(rmat)):\n",
    "            rm = rmat.iloc[j].tolist()\n",
    "            r = rmat.iloc[j].name\n",
    "            score = cal_sim(qm, rm)\n",
    "    #         t.append(Timer('cal_sim(qm, rm)','from __main__ import cal_sim,qm,rm').timeit(10))\n",
    "            qresult.append((r,score))\n",
    "        result[q] = qresult\n",
    "    return result"
   ]
  },
  {
   "cell_type": "code",
   "execution_count": 218,
   "metadata": {
    "collapsed": false
   },
   "outputs": [],
   "source": [
    "qvsim = get_sim_result(qmat, vmat)"
   ]
  },
  {
   "cell_type": "code",
   "execution_count": 219,
   "metadata": {
    "collapsed": false
   },
   "outputs": [],
   "source": [
    "malletv = pd.DataFrame([(q,t[0],t[1]) for q,values in qvsim.iteritems() for t in values])"
   ]
  },
  {
   "cell_type": "code",
   "execution_count": 220,
   "metadata": {
    "collapsed": false
   },
   "outputs": [],
   "source": [
    "malletv.rename(columns={0:'q',1:'v',2:'score'},inplace=True)"
   ]
  },
  {
   "cell_type": "code",
   "execution_count": 221,
   "metadata": {
    "collapsed": false
   },
   "outputs": [],
   "source": [
    "def f_mk(df):\n",
    "    df['r_mk'] = np.arange(1,len(df)+1)\n",
    "    return df\n",
    "\n",
    "def get_rank_by(df, col_name, ascending=False):\n",
    "    group = df.groupby('q')[col_name]\n",
    "    re = df.set_index(['q', df.index])\n",
    "    re = re.ix[group.apply(lambda x:x.sort_values(ascending=ascending)).index]\n",
    "    out = re.groupby(level=0).apply(f_mk).reset_index()\n",
    "    return out"
   ]
  },
  {
   "cell_type": "code",
   "execution_count": 222,
   "metadata": {
    "collapsed": false
   },
   "outputs": [],
   "source": [
    "malletv = get_rank_by(malletv,'score', True)"
   ]
  },
  {
   "cell_type": "code",
   "execution_count": 223,
   "metadata": {
    "collapsed": false
   },
   "outputs": [],
   "source": [
    "fil = malletv.query(\"v=='v001'\").take([0,-1],axis=1)"
   ]
  },
  {
   "cell_type": "code",
   "execution_count": 224,
   "metadata": {
    "collapsed": false
   },
   "outputs": [],
   "source": [
    "out = pd.merge(malletv,fil,on='q').query('r_mk_x<=r_mk_y')"
   ]
  },
  {
   "cell_type": "code",
   "execution_count": 225,
   "metadata": {
    "collapsed": false
   },
   "outputs": [
    {
     "data": {
      "text/html": [
       "<div>\n",
       "<table border=\"1\" class=\"dataframe\">\n",
       "  <thead>\n",
       "    <tr style=\"text-align: right;\">\n",
       "      <th></th>\n",
       "      <th>q</th>\n",
       "      <th>level_1</th>\n",
       "      <th>v</th>\n",
       "      <th>score</th>\n",
       "      <th>r_mk_x</th>\n",
       "      <th>r_mk_y</th>\n",
       "    </tr>\n",
       "  </thead>\n",
       "  <tbody>\n",
       "    <tr>\n",
       "      <th>0</th>\n",
       "      <td>7011</td>\n",
       "      <td>1400</td>\n",
       "      <td>v009</td>\n",
       "      <td>0.332248</td>\n",
       "      <td>1</td>\n",
       "      <td>5</td>\n",
       "    </tr>\n",
       "    <tr>\n",
       "      <th>1</th>\n",
       "      <td>7011</td>\n",
       "      <td>1405</td>\n",
       "      <td>v014</td>\n",
       "      <td>0.454615</td>\n",
       "      <td>2</td>\n",
       "      <td>5</td>\n",
       "    </tr>\n",
       "  </tbody>\n",
       "</table>\n",
       "</div>"
      ],
      "text/plain": [
       "      q  level_1     v     score  r_mk_x  r_mk_y\n",
       "0  7011     1400  v009  0.332248       1       5\n",
       "1  7011     1405  v014  0.454615       2       5"
      ]
     },
     "execution_count": 225,
     "metadata": {},
     "output_type": "execute_result"
    }
   ],
   "source": [
    "out[:2]"
   ]
  },
  {
   "cell_type": "code",
   "execution_count": 226,
   "metadata": {
    "collapsed": true
   },
   "outputs": [],
   "source": [
    "out['v_x'] = out['v'].apply(lambda x:'FW14-'+x)"
   ]
  },
  {
   "cell_type": "code",
   "execution_count": 227,
   "metadata": {
    "collapsed": false
   },
   "outputs": [
    {
     "data": {
      "text/html": [
       "<div>\n",
       "<table border=\"1\" class=\"dataframe\">\n",
       "  <thead>\n",
       "    <tr style=\"text-align: right;\">\n",
       "      <th></th>\n",
       "      <th>q</th>\n",
       "      <th>level_1</th>\n",
       "      <th>v</th>\n",
       "      <th>score</th>\n",
       "      <th>r_mk_x</th>\n",
       "      <th>r_mk_y</th>\n",
       "      <th>v_x</th>\n",
       "      <th>runid</th>\n",
       "    </tr>\n",
       "  </thead>\n",
       "  <tbody>\n",
       "    <tr>\n",
       "      <th>0</th>\n",
       "      <td>7011</td>\n",
       "      <td>1400</td>\n",
       "      <td>v009</td>\n",
       "      <td>0.332248</td>\n",
       "      <td>1</td>\n",
       "      <td>5</td>\n",
       "      <td>FW14-v009</td>\n",
       "      <td>kapokvs</td>\n",
       "    </tr>\n",
       "    <tr>\n",
       "      <th>1</th>\n",
       "      <td>7011</td>\n",
       "      <td>1405</td>\n",
       "      <td>v014</td>\n",
       "      <td>0.454615</td>\n",
       "      <td>2</td>\n",
       "      <td>5</td>\n",
       "      <td>FW14-v014</td>\n",
       "      <td>kapokvs</td>\n",
       "    </tr>\n",
       "  </tbody>\n",
       "</table>\n",
       "</div>"
      ],
      "text/plain": [
       "      q  level_1     v     score  r_mk_x  r_mk_y        v_x    runid\n",
       "0  7011     1400  v009  0.332248       1       5  FW14-v009  kapokvs\n",
       "1  7011     1405  v014  0.454615       2       5  FW14-v014  kapokvs"
      ]
     },
     "execution_count": 227,
     "metadata": {},
     "output_type": "execute_result"
    }
   ],
   "source": [
    "out['runid'] = 'kapokvs'\n",
    "out[:2]"
   ]
  },
  {
   "cell_type": "code",
   "execution_count": 228,
   "metadata": {
    "collapsed": true
   },
   "outputs": [],
   "source": [
    "out.take([0,-2,-1],axis=1).to_csv('resource/vs_mal10',sep=' ',header=None,index=False)"
   ]
  },
  {
   "cell_type": "markdown",
   "metadata": {},
   "source": [
    "_________________"
   ]
  },
  {
   "cell_type": "code",
   "execution_count": 244,
   "metadata": {
    "collapsed": true
   },
   "outputs": [],
   "source": [
    "qmap = pd.read_csv('../rs/resource/qmap',header=None,sep=' ')"
   ]
  },
  {
   "cell_type": "code",
   "execution_count": 245,
   "metadata": {
    "collapsed": false
   },
   "outputs": [
    {
     "data": {
      "text/html": [
       "<div>\n",
       "<table border=\"1\" class=\"dataframe\">\n",
       "  <thead>\n",
       "    <tr style=\"text-align: right;\">\n",
       "      <th></th>\n",
       "      <th>0</th>\n",
       "      <th>1</th>\n",
       "    </tr>\n",
       "  </thead>\n",
       "  <tbody>\n",
       "    <tr>\n",
       "      <th>0</th>\n",
       "      <td>0</td>\n",
       "      <td>7011</td>\n",
       "    </tr>\n",
       "    <tr>\n",
       "      <th>1</th>\n",
       "      <td>1</td>\n",
       "      <td>7014</td>\n",
       "    </tr>\n",
       "  </tbody>\n",
       "</table>\n",
       "</div>"
      ],
      "text/plain": [
       "   0     1\n",
       "0  0  7011\n",
       "1  1  7014"
      ]
     },
     "execution_count": 245,
     "metadata": {},
     "output_type": "execute_result"
    }
   ],
   "source": [
    "qmap[:2]"
   ]
  },
  {
   "cell_type": "code",
   "execution_count": 240,
   "metadata": {
    "collapsed": true
   },
   "outputs": [],
   "source": [
    "vs = []\n",
    "for i in xrange(1,25):\n",
    "    v = 'v'+str(i).zfill(3)\n",
    "    vs.append(v)"
   ]
  },
  {
   "cell_type": "code",
   "execution_count": 307,
   "metadata": {
    "collapsed": true
   },
   "outputs": [],
   "source": [
    "vmat = pd.read_csv('resource/vtext_10/vtext_compos.txt',sep='\\t',header=None)"
   ]
  },
  {
   "cell_type": "code",
   "execution_count": 308,
   "metadata": {
    "collapsed": false
   },
   "outputs": [],
   "source": [
    "vmat['v'] = vs\n",
    "del vmat[0]\n",
    "del vmat[1]"
   ]
  },
  {
   "cell_type": "code",
   "execution_count": 309,
   "metadata": {
    "collapsed": false
   },
   "outputs": [
    {
     "data": {
      "text/html": [
       "<div>\n",
       "<table border=\"1\" class=\"dataframe\">\n",
       "  <thead>\n",
       "    <tr style=\"text-align: right;\">\n",
       "      <th></th>\n",
       "      <th>2</th>\n",
       "      <th>3</th>\n",
       "      <th>4</th>\n",
       "      <th>5</th>\n",
       "      <th>6</th>\n",
       "      <th>7</th>\n",
       "      <th>8</th>\n",
       "      <th>9</th>\n",
       "      <th>10</th>\n",
       "      <th>11</th>\n",
       "    </tr>\n",
       "    <tr>\n",
       "      <th>v</th>\n",
       "      <th></th>\n",
       "      <th></th>\n",
       "      <th></th>\n",
       "      <th></th>\n",
       "      <th></th>\n",
       "      <th></th>\n",
       "      <th></th>\n",
       "      <th></th>\n",
       "      <th></th>\n",
       "      <th></th>\n",
       "    </tr>\n",
       "  </thead>\n",
       "  <tbody>\n",
       "    <tr>\n",
       "      <th>v001</th>\n",
       "      <td>0.000868</td>\n",
       "      <td>0.054972</td>\n",
       "      <td>0.008038</td>\n",
       "      <td>0.765335</td>\n",
       "      <td>0.031689</td>\n",
       "      <td>0.005839</td>\n",
       "      <td>0.024181</td>\n",
       "      <td>0.016485</td>\n",
       "      <td>0.080317</td>\n",
       "      <td>0.012275</td>\n",
       "    </tr>\n",
       "    <tr>\n",
       "      <th>v002</th>\n",
       "      <td>0.002606</td>\n",
       "      <td>0.082238</td>\n",
       "      <td>0.006816</td>\n",
       "      <td>0.000249</td>\n",
       "      <td>0.017489</td>\n",
       "      <td>0.004855</td>\n",
       "      <td>0.097376</td>\n",
       "      <td>0.018363</td>\n",
       "      <td>0.036312</td>\n",
       "      <td>0.733695</td>\n",
       "    </tr>\n",
       "  </tbody>\n",
       "</table>\n",
       "</div>"
      ],
      "text/plain": [
       "            2         3         4         5         6         7         8   \\\n",
       "v                                                                            \n",
       "v001  0.000868  0.054972  0.008038  0.765335  0.031689  0.005839  0.024181   \n",
       "v002  0.002606  0.082238  0.006816  0.000249  0.017489  0.004855  0.097376   \n",
       "\n",
       "            9         10        11  \n",
       "v                                   \n",
       "v001  0.016485  0.080317  0.012275  \n",
       "v002  0.018363  0.036312  0.733695  "
      ]
     },
     "execution_count": 309,
     "metadata": {},
     "output_type": "execute_result"
    }
   ],
   "source": [
    "vmat.set_index('v',inplace=True)\n",
    "vmat[:2]"
   ]
  },
  {
   "cell_type": "code",
   "execution_count": 310,
   "metadata": {
    "collapsed": false
   },
   "outputs": [],
   "source": [
    "vmat = vmat.apply(pd.to_numeric,errors='ignore')"
   ]
  },
  {
   "cell_type": "code",
   "execution_count": 311,
   "metadata": {
    "collapsed": false
   },
   "outputs": [
    {
     "data": {
      "text/html": [
       "<div>\n",
       "<table border=\"1\" class=\"dataframe\">\n",
       "  <thead>\n",
       "    <tr style=\"text-align: right;\">\n",
       "      <th></th>\n",
       "      <th>0</th>\n",
       "      <th>1</th>\n",
       "      <th>2</th>\n",
       "      <th>3</th>\n",
       "      <th>4</th>\n",
       "      <th>5</th>\n",
       "      <th>6</th>\n",
       "      <th>7</th>\n",
       "      <th>8</th>\n",
       "      <th>9</th>\n",
       "      <th>10</th>\n",
       "      <th>11</th>\n",
       "    </tr>\n",
       "  </thead>\n",
       "  <tbody>\n",
       "    <tr>\n",
       "      <th>0</th>\n",
       "      <td>0</td>\n",
       "      <td>pavlova</td>\n",
       "      <td>0.004390</td>\n",
       "      <td>0.492450</td>\n",
       "      <td>0.002998</td>\n",
       "      <td>0.015194</td>\n",
       "      <td>0.023002</td>\n",
       "      <td>0.028146</td>\n",
       "      <td>0.025021</td>\n",
       "      <td>0.033736</td>\n",
       "      <td>0.268524</td>\n",
       "      <td>0.106537</td>\n",
       "    </tr>\n",
       "    <tr>\n",
       "      <th>1</th>\n",
       "      <td>1</td>\n",
       "      <td>asian</td>\n",
       "      <td>0.002034</td>\n",
       "      <td>0.518675</td>\n",
       "      <td>0.002937</td>\n",
       "      <td>0.008083</td>\n",
       "      <td>0.061071</td>\n",
       "      <td>0.007169</td>\n",
       "      <td>0.049447</td>\n",
       "      <td>0.010378</td>\n",
       "      <td>0.331055</td>\n",
       "      <td>0.009151</td>\n",
       "    </tr>\n",
       "  </tbody>\n",
       "</table>\n",
       "</div>"
      ],
      "text/plain": [
       "   0        1         2         3         4         5         6         7   \\\n",
       "0   0  pavlova  0.004390  0.492450  0.002998  0.015194  0.023002  0.028146   \n",
       "1   1    asian  0.002034  0.518675  0.002937  0.008083  0.061071  0.007169   \n",
       "\n",
       "         8         9         10        11  \n",
       "0  0.025021  0.033736  0.268524  0.106537  \n",
       "1  0.049447  0.010378  0.331055  0.009151  "
      ]
     },
     "execution_count": 311,
     "metadata": {},
     "output_type": "execute_result"
    }
   ],
   "source": [
    "qmat = pd.read_csv('resource/vtext_10/expqs_dt',sep='\\t',header=None,skiprows=1)\n",
    "qmat[:2]"
   ]
  },
  {
   "cell_type": "code",
   "execution_count": 312,
   "metadata": {
    "collapsed": true
   },
   "outputs": [],
   "source": [
    "qmat = pd.merge(qmat,qmap,on=0)"
   ]
  },
  {
   "cell_type": "code",
   "execution_count": 313,
   "metadata": {
    "collapsed": false
   },
   "outputs": [
    {
     "data": {
      "text/html": [
       "<div>\n",
       "<table border=\"1\" class=\"dataframe\">\n",
       "  <thead>\n",
       "    <tr style=\"text-align: right;\">\n",
       "      <th></th>\n",
       "      <th>2</th>\n",
       "      <th>3</th>\n",
       "      <th>4</th>\n",
       "      <th>5</th>\n",
       "      <th>6</th>\n",
       "      <th>7</th>\n",
       "      <th>8</th>\n",
       "      <th>9</th>\n",
       "      <th>10</th>\n",
       "      <th>11</th>\n",
       "    </tr>\n",
       "    <tr>\n",
       "      <th>q</th>\n",
       "      <th></th>\n",
       "      <th></th>\n",
       "      <th></th>\n",
       "      <th></th>\n",
       "      <th></th>\n",
       "      <th></th>\n",
       "      <th></th>\n",
       "      <th></th>\n",
       "      <th></th>\n",
       "      <th></th>\n",
       "    </tr>\n",
       "  </thead>\n",
       "  <tbody>\n",
       "    <tr>\n",
       "      <th>7011</th>\n",
       "      <td>0.004390</td>\n",
       "      <td>0.492450</td>\n",
       "      <td>0.002998</td>\n",
       "      <td>0.015194</td>\n",
       "      <td>0.023002</td>\n",
       "      <td>0.028146</td>\n",
       "      <td>0.025021</td>\n",
       "      <td>0.033736</td>\n",
       "      <td>0.268524</td>\n",
       "      <td>0.106537</td>\n",
       "    </tr>\n",
       "    <tr>\n",
       "      <th>7014</th>\n",
       "      <td>0.002034</td>\n",
       "      <td>0.518675</td>\n",
       "      <td>0.002937</td>\n",
       "      <td>0.008083</td>\n",
       "      <td>0.061071</td>\n",
       "      <td>0.007169</td>\n",
       "      <td>0.049447</td>\n",
       "      <td>0.010378</td>\n",
       "      <td>0.331055</td>\n",
       "      <td>0.009151</td>\n",
       "    </tr>\n",
       "  </tbody>\n",
       "</table>\n",
       "</div>"
      ],
      "text/plain": [
       "            2         3         4         5         6         7         8   \\\n",
       "q                                                                            \n",
       "7011  0.004390  0.492450  0.002998  0.015194  0.023002  0.028146  0.025021   \n",
       "7014  0.002034  0.518675  0.002937  0.008083  0.061071  0.007169  0.049447   \n",
       "\n",
       "            9         10        11  \n",
       "q                                   \n",
       "7011  0.033736  0.268524  0.106537  \n",
       "7014  0.010378  0.331055  0.009151  "
      ]
     },
     "execution_count": 313,
     "metadata": {},
     "output_type": "execute_result"
    }
   ],
   "source": [
    "del qmat['1_x']\n",
    "del qmat[0]\n",
    "qmat.rename(columns={'1_y':'q'},inplace=True)\n",
    "qmat.set_index('q',inplace=True)\n",
    "qmat[:2]"
   ]
  },
  {
   "cell_type": "code",
   "execution_count": 314,
   "metadata": {
    "collapsed": true
   },
   "outputs": [],
   "source": [
    "qmat = qmat.apply(pd.to_numeric,errors='ignore')"
   ]
  },
  {
   "cell_type": "code",
   "execution_count": 315,
   "metadata": {
    "collapsed": false
   },
   "outputs": [],
   "source": [
    "qvsim = get_sim_result(qmat, vmat)"
   ]
  },
  {
   "cell_type": "code",
   "execution_count": 316,
   "metadata": {
    "collapsed": false
   },
   "outputs": [
    {
     "data": {
      "text/html": [
       "<div>\n",
       "<table border=\"1\" class=\"dataframe\">\n",
       "  <thead>\n",
       "    <tr style=\"text-align: right;\">\n",
       "      <th></th>\n",
       "      <th>q</th>\n",
       "      <th>level_1</th>\n",
       "      <th>v</th>\n",
       "      <th>score</th>\n",
       "      <th>r_mk_x</th>\n",
       "      <th>r_mk_y</th>\n",
       "    </tr>\n",
       "  </thead>\n",
       "  <tbody>\n",
       "    <tr>\n",
       "      <th>0</th>\n",
       "      <td>7011</td>\n",
       "      <td>1409</td>\n",
       "      <td>v018</td>\n",
       "      <td>0.589554</td>\n",
       "      <td>1</td>\n",
       "      <td>9</td>\n",
       "    </tr>\n",
       "    <tr>\n",
       "      <th>1</th>\n",
       "      <td>7011</td>\n",
       "      <td>1405</td>\n",
       "      <td>v014</td>\n",
       "      <td>0.835797</td>\n",
       "      <td>2</td>\n",
       "      <td>9</td>\n",
       "    </tr>\n",
       "  </tbody>\n",
       "</table>\n",
       "</div>"
      ],
      "text/plain": [
       "      q  level_1     v     score  r_mk_x  r_mk_y\n",
       "0  7011     1409  v018  0.589554       1       9\n",
       "1  7011     1405  v014  0.835797       2       9"
      ]
     },
     "execution_count": 316,
     "metadata": {},
     "output_type": "execute_result"
    }
   ],
   "source": [
    "malletv = pd.DataFrame([(q,t[0],t[1]) for q,values in qvsim.iteritems() for t in values])\n",
    "malletv.rename(columns={0:'q',1:'v',2:'score'},inplace=True)\n",
    "malletv = get_rank_by(malletv,'score', True)\n",
    "fil = malletv.query(\"v=='v001'\").take([0,-1],axis=1)\n",
    "out = pd.merge(malletv,fil,on='q').query('r_mk_x<=r_mk_y')\n",
    "out[:2]"
   ]
  },
  {
   "cell_type": "code",
   "execution_count": 317,
   "metadata": {
    "collapsed": false
   },
   "outputs": [
    {
     "data": {
      "text/html": [
       "<div>\n",
       "<table border=\"1\" class=\"dataframe\">\n",
       "  <thead>\n",
       "    <tr style=\"text-align: right;\">\n",
       "      <th></th>\n",
       "      <th>q</th>\n",
       "      <th>level_1</th>\n",
       "      <th>v</th>\n",
       "      <th>score</th>\n",
       "      <th>r_mk_x</th>\n",
       "      <th>r_mk_y</th>\n",
       "      <th>v_x</th>\n",
       "      <th>runid</th>\n",
       "    </tr>\n",
       "  </thead>\n",
       "  <tbody>\n",
       "    <tr>\n",
       "      <th>0</th>\n",
       "      <td>7011</td>\n",
       "      <td>1409</td>\n",
       "      <td>v018</td>\n",
       "      <td>0.589554</td>\n",
       "      <td>1</td>\n",
       "      <td>9</td>\n",
       "      <td>FW14-v018</td>\n",
       "      <td>kapokvs</td>\n",
       "    </tr>\n",
       "    <tr>\n",
       "      <th>1</th>\n",
       "      <td>7011</td>\n",
       "      <td>1405</td>\n",
       "      <td>v014</td>\n",
       "      <td>0.835797</td>\n",
       "      <td>2</td>\n",
       "      <td>9</td>\n",
       "      <td>FW14-v014</td>\n",
       "      <td>kapokvs</td>\n",
       "    </tr>\n",
       "  </tbody>\n",
       "</table>\n",
       "</div>"
      ],
      "text/plain": [
       "      q  level_1     v     score  r_mk_x  r_mk_y        v_x    runid\n",
       "0  7011     1409  v018  0.589554       1       9  FW14-v018  kapokvs\n",
       "1  7011     1405  v014  0.835797       2       9  FW14-v014  kapokvs"
      ]
     },
     "execution_count": 317,
     "metadata": {},
     "output_type": "execute_result"
    }
   ],
   "source": [
    "out['v_x'] = out['v'].apply(lambda x:'FW14-'+x)\n",
    "out['runid'] = 'kapokvs'\n",
    "out[:2]"
   ]
  },
  {
   "cell_type": "code",
   "execution_count": 318,
   "metadata": {
    "collapsed": true
   },
   "outputs": [],
   "source": [
    "out.take([0,-2,-1],axis=1).to_csv('resource/vs_bigmal/vs_mal10',sep=' ',header=None,index=False)"
   ]
  },
  {
   "cell_type": "code",
   "execution_count": null,
   "metadata": {
    "collapsed": true
   },
   "outputs": [],
   "source": []
  }
 ],
 "metadata": {
  "kernelspec": {
   "display_name": "Python 2",
   "language": "python",
   "name": "python2"
  },
  "language_info": {
   "codemirror_mode": {
    "name": "ipython",
    "version": 2
   },
   "file_extension": ".py",
   "mimetype": "text/x-python",
   "name": "python",
   "nbconvert_exporter": "python",
   "pygments_lexer": "ipython2",
   "version": "2.7.9"
  }
 },
 "nbformat": 4,
 "nbformat_minor": 1
}
